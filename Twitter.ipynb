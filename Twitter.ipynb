{
 "cells": [
  {
   "cell_type": "code",
   "execution_count": 17,
   "metadata": {},
   "outputs": [
    {
     "name": "stdout",
     "output_type": "stream",
     "text": [
      "['__class__', '__delattr__', '__dict__', '__dir__', '__doc__', '__eq__', '__format__', '__ge__', '__getattribute__', '__gt__', '__hash__', '__init__', '__init_subclass__', '__le__', '__lt__', '__module__', '__ne__', '__new__', '__reduce__', '__reduce_ex__', '__repr__', '__setattr__', '__sizeof__', '__str__', '__subclasshook__', '__weakref__', '_get_authenticating_user_id', '_get_oauth_1_authenticating_user_id', '_get_oauth_2_authenticating_user_id', '_make_request', '_process_data', '_process_includes', '_process_params', 'access_token', 'access_token_secret', 'add_list_member', 'bearer_token', 'block', 'bookmark', 'consumer_key', 'consumer_secret', 'create_compliance_job', 'create_list', 'create_tweet', 'delete_list', 'delete_tweet', 'follow', 'follow_list', 'follow_user', 'get_all_tweets_count', 'get_blocked', 'get_bookmarks', 'get_compliance_job', 'get_compliance_jobs', 'get_followed_lists', 'get_liked_tweets', 'get_liking_users', 'get_list', 'get_list_followers', 'get_list_members', 'get_list_memberships', 'get_list_tweets', 'get_me', 'get_muted', 'get_owned_lists', 'get_pinned_lists', 'get_quote_tweets', 'get_recent_tweets_count', 'get_retweeters', 'get_space', 'get_space_buyers', 'get_space_tweets', 'get_spaces', 'get_tweet', 'get_tweets', 'get_user', 'get_users', 'get_users_followers', 'get_users_following', 'get_users_mentions', 'get_users_tweets', 'hide_reply', 'like', 'mute', 'pin_list', 'remove_bookmark', 'remove_list_member', 'request', 'return_type', 'retweet', 'search_all_tweets', 'search_recent_tweets', 'search_spaces', 'session', 'unblock', 'unfollow', 'unfollow_list', 'unfollow_user', 'unhide_reply', 'unlike', 'unmute', 'unpin_list', 'unretweet', 'update_list', 'user_agent', 'wait_on_rate_limit']\n",
      "Response(data=<User id=1019988407878144006 name=Udit Kalra username=UditKalra15>, includes={}, errors=[], meta={})\n"
     ]
    }
   ],
   "source": [
    "import tweepy\n",
    "\n",
    "# Your app's bearer token can be found under the Authentication Tokens section\n",
    "# of the Keys and Tokens tab of your app, under the\n",
    "# Twitter Developer Portal Projects & Apps page at\n",
    "# https://developer.twitter.com/en/portal/projects-and-apps\n",
    "bearer_token = \"AAAAAAAAAAAAAAAAAAAAAHe0cQEAAAAAX5fqWVOCrd5YNpNztViyXj56m4E%3Di8E4Ck1mI9jQUGd6W1cSxyrF5Oe56O3zmfM0LPiF1aayO1UJv2\"\n",
    "\n",
    "# Your app's API/consumer key and secret can be found under the Consumer Keys\n",
    "# section of the Keys and Tokens tab of your app, under the\n",
    "# Twitter Developer Portal Projects & Apps page at\n",
    "# https://developer.twitter.com/en/portal/projects-and-apps\n",
    "consumer_key = \"9UCMqcSXSWTrAwqXW4O8NWz45\"\n",
    "consumer_secret = \"o6Kat0yjLgqXfQKMoEBVIiHmjsEHGFaXNIUrdCVOzzBZ1MCBAX\"\n",
    "\n",
    "# Your account's (the app owner's account's) access token and secret for your\n",
    "# app can be found under the Authentication Tokens section of the\n",
    "# Keys and Tokens tab of your app, under the\n",
    "# Twitter Developer Portal Projects & Apps page at\n",
    "# https://developer.twitter.com/en/portal/projects-and-apps\n",
    "access_token = \"1019988407878144006-GmEVXnr5X7VrQ0OggetsVkOyGsSIG1\"\n",
    "access_token_secret = \"6gDbhskmzjtczmtipq5B6uW48eTmprwK1zPd0dFm9VHWI\"\n",
    "\n",
    "# You can authenticate as your app with just your bearer token\n",
    "client = tweepy.Client(bearer_token=bearer_token)\n",
    "\n",
    "# You can provide the consumer key and secret with the access token and access\n",
    "# token secret to authenticate as a user\n",
    "client = tweepy.Client(\n",
    "    consumer_key=consumer_key, consumer_secret=consumer_secret,\n",
    "    access_token=access_token, access_token_secret=access_token_secret\n",
    ")\n",
    "\n",
    "print(dir(client))\n",
    "\n",
    "print(client.get_me())"
   ]
  },
  {
   "cell_type": "code",
   "execution_count": 18,
   "metadata": {},
   "outputs": [
    {
     "name": "stdout",
     "output_type": "stream",
     "text": [
      "{'newest_id': '1524614767591141377', 'oldest_id': '1524612937243004930', 'result_count': 10, 'next_token': 'b26v89c19zqg8o3fpywmhdjen27a2okv3jp5785empdvh'}\n",
      "1524614767591141377\n",
      "આ કોણ છે હે હૂ ઓળખતો નથી\n",
      "અને આ ક્યાં જાતો હસે સુ કામે...?? 🙄\n",
      " \n",
      "#rahulgandhi #comedian #pappu #ganpat_desaii #BJP #RT https://t.co/Mlhs91Uhlu\n",
      "1524614687434092544\n",
      "@ranvijaylive To kya chahte ho sirf pappu bhaiya ki night club wali video dekhoge?\n",
      "1524614334034235393\n",
      "@ActivistSandeep Pappu k Maal k kask mar k tweet mat karo, bevakoof to Pehle hi sabit ho chuke ho\n",
      "1524614132783206400\n",
      "@GauravgGautam @ShayarImran \n",
      "\n",
      "Aur tumahari gumsum buddhi tumhein PAPPU kehlati hai......\n",
      "Bah Bah !!!!\n",
      "Without black sheep.\n",
      "1524614054584930304\n",
      "@MehekF @ajeetsin @_sabanaqvi Pappu khud aane layak hai kya?\n",
      "1524613778507132930\n",
      "@Alphatoonist Lil Correction - \n",
      "Pappu shud be the CEO and Dakait shud be the COO....\n",
      "1524613729584779265\n",
      "RT @PS_IAIOC: @EcoPolit @mno12071950 @CJBdingo25 @indiajourno @GoldDusters @aropra01 @Damngroups @bhartijainTOI @DeepakSenJourno It is part…\n",
      "1524613725155602432\n",
      "@Dr_Uditraj Haan re kaluwe aur Bangkok ko #Pappu pela ja rha hai?\n",
      "1524613218236510208\n",
      "RT @arjuntiwaribjp: Guest of former PM Manmohan Singh, friend of Arundhati Roy &amp; India Today's 'youth icon' Yasin Malik pleads guilty in te…\n",
      "1524612937243004930\n",
      "@Dr_Uditraj Shukar karo 2014 se Bharat Desh ke logo ne Sahi neta chuna hai. \n",
      "Agar NAQLI Gandhi Pariwar ko Chun te tho aaj sabse zyaada kutaayi CON gress party ke Gulaamo ki hoti. \n",
      "Pappu, Bar Dancer Maino Pariwar Italy bhag jaate \n",
      "Modi Ji ne aap logo ko bachaya hai\n"
     ]
    }
   ],
   "source": [
    "import tweepy\n",
    "bearer_token = \"AAAAAAAAAAAAAAAAAAAAAHe0cQEAAAAAX5fqWVOCrd5YNpNztViyXj56m4E%3Di8E4Ck1mI9jQUGd6W1cSxyrF5Oe56O3zmfM0LPiF1aayO1UJv2\"\n",
    "\n",
    "client = tweepy.Client(bearer_token)\n",
    "\n",
    "# Search Recent Tweets\n",
    "\n",
    "# This endpoint/method returns Tweets from the last seven days\n",
    "\n",
    "response = client.search_recent_tweets(\"Pappu\")\n",
    "# The method returns a Response object, a named tuple with data, includes,\n",
    "# errors, and meta fields\n",
    "print(response.meta)\n",
    "\n",
    "# In this case, the data field of the Response returned is a list of Tweet\n",
    "# objects\n",
    "tweets = response.data\n",
    "\n",
    "# Each Tweet object has default ID and text fields\n",
    "for tweet in tweets:\n",
    "    print(tweet.id)\n",
    "    print(tweet.text)\n",
    "\n",
    "# By default, this endpoint/method returns 10 results\n",
    "# You can retrieve up to 100 Tweets by specifying max_results\n",
    "response = client.search_recent_tweets(\"Pappu\", max_results=100)"
   ]
  },
  {
   "cell_type": "code",
   "execution_count": 19,
   "metadata": {},
   "outputs": [],
   "source": [
    "# def sentiment_analysis(test):\n",
    "#  def getSubjectivity(text):\n",
    "#    return TextBlob(text).sentiment.subjectivity\n",
    "  \n",
    "#  #Create a function to get the polarity\n",
    "#  def getPolarity(text):\n",
    "#    return TextBlob(text).sentiment.polarity\n",
    "  \n",
    "#  #Create two new columns ‘Subjectivity’ & ‘Polarity’\n",
    "#  tweet['TextBlob_Subjectivity'] =    tweet['tweet'].apply(getSubjectivity)\n",
    "#  tweet ['TextBlob_Polarity'] = tweet['tweet'].apply(getPolarity)\n",
    "#  def getAnalysis(score):\n",
    "#   if score < 0:\n",
    "#     return 'Negative'\n",
    "#   elif score == 0:\n",
    "#     return 'Neutral'\n",
    "#   else:\n",
    "#     return 'Positive'\n",
    "#  tweet ['TextBlob_Analysis'] = tweet  ['TextBlob_Polarity'].apply(getAnalysis )\n",
    "#  return tweet"
   ]
  },
  {
   "cell_type": "code",
   "execution_count": 20,
   "metadata": {},
   "outputs": [],
   "source": [
    "# from textblob import TextBlob\n",
    "# file = open('test.txt', 'r')\n",
    "# lines = file.readlines()\n",
    "# li = list()\n",
    "\n",
    "# for i in lines:\n",
    "#     li.append(TextBlob(i).sentiment.polarity)\n",
    "#     print(li)\n",
    "\n",
    "# pos=0\n",
    "# neg=0\n",
    "# neu=0\n",
    "\n",
    "# for i in li:\n",
    "#         if(i>0.0):\n",
    "#             pos = pos + 1\n",
    "#         elif (i<0.0):\n",
    "#             neg = neg + 1\n",
    "#         else:\n",
    "#             neu = neu + 1\n",
    "   \n",
    "# print(\"\\nNumber of Positive Statements:\", pos)\n",
    "# print(\"Number of Negative Statements:\", neg)\n",
    "# print(\"Number of Neutral Statements:\", neu) "
   ]
  },
  {
   "cell_type": "code",
   "execution_count": 21,
   "metadata": {},
   "outputs": [],
   "source": [
    "file1 = open(\"test.txt\", \"a\") \n",
    "# append mode\n",
    "for tweet in tweets:\n",
    "    file1.write(tweet.text)    \n",
    "file1.close()"
   ]
  },
  {
   "cell_type": "code",
   "execution_count": 22,
   "metadata": {},
   "outputs": [],
   "source": [
    "from textblob import TextBlob\n",
    "from matplotlib import pyplot as plt\n",
    "import numpy as np\n",
    "import re"
   ]
  },
  {
   "cell_type": "code",
   "execution_count": 23,
   "metadata": {},
   "outputs": [
    {
     "name": "stdout",
     "output_type": "stream",
     "text": [
      "[0.0, 0.0, 0.0, 0.0, 0.0, 0.0, 0.0, -0.16666666666666666, -0.25, 0.0, 0.0, 0.0]\n",
      "83.33333333333334 0.0 16.666666666666664\n"
     ]
    },
    {
     "data": {
      "image/png": "[encoded data removed]",
      "text/plain": [
       "<Figure size 432x288 with 1 Axes>"
      ]
     },
     "metadata": {},
     "output_type": "display_data"
    }
   ],
   "source": [
    "f = open(\"test.txt\", \"r\", encoding=\"utf-8\")\n",
    "Lines = f.readlines()\n",
    "\n",
    "sentili=[]\n",
    "\n",
    "for i in Lines:\n",
    "    sentili.append(TextBlob(i).sentiment.polarity)\n",
    "    \n",
    "print(sentili)\n",
    "\n",
    "neg=0\n",
    "n=0\n",
    "p=0\n",
    "c=0\n",
    "\n",
    "for i in sentili:\n",
    "    c=c+1\n",
    "    if i==0.0:\n",
    "        n=n+1\n",
    "    elif i>0.0:\n",
    "        p=p+1\n",
    "    else:\n",
    "        neg=neg+1\n",
    "        \n",
    "n1=(n/c)*100\n",
    "p1=(p/c)*100\n",
    "neg1=(neg/c)*100\n",
    "\n",
    "print(n1,p1,neg1)\n",
    "\n",
    "y = np.array([n1, p1, neg1])\n",
    "mylabels = [\"Neutral\", \"Positive\", \"Negative\"]\n",
    "\n",
    "plt.pie(y, labels = mylabels, autopct='%1.1f%%',\n",
    "        shadow=True,explode=[0.1,0.2,0.1])\n",
    "plt.show()"
   ]
  }
 ],
 "metadata": {
  "interpreter": {
   "hash": "aee8b7b246df8f9039afb4144a1f6fd8d2ca17a180786b69acc140d282b71a49"
  },
  "kernelspec": {
   "display_name": "Python 3.10.4 64-bit",
   "name": "python3"
  },
  "language_info": {
   "codemirror_mode": {
    "name": "ipython",
    "version": 3
   },
   "file_extension": ".py",
   "mimetype": "text/x-python",
   "name": "python",
   "nbconvert_exporter": "python",
   "pygments_lexer": "ipython3",
   "version": "3.10.4"
  },
  "orig_nbformat": 4
 },
 "nbformat": 4,
 "nbformat_minor": 2
}
