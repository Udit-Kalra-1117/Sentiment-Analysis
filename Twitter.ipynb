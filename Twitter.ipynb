{
 "cells": [
  {
   "cell_type": "code",
   "execution_count": 18,
   "metadata": {},
   "outputs": [
    {
     "name": "stdout",
     "output_type": "stream",
     "text": [
      "['__class__', '__delattr__', '__dict__', '__dir__', '__doc__', '__eq__', '__format__', '__ge__', '__getattribute__', '__gt__', '__hash__', '__init__', '__init_subclass__', '__le__', '__lt__', '__module__', '__ne__', '__new__', '__reduce__', '__reduce_ex__', '__repr__', '__setattr__', '__sizeof__', '__str__', '__subclasshook__', '__weakref__', '_get_authenticating_user_id', '_get_oauth_1_authenticating_user_id', '_get_oauth_2_authenticating_user_id', '_make_request', '_process_data', '_process_includes', '_process_params', 'access_token', 'access_token_secret', 'add_list_member', 'bearer_token', 'block', 'bookmark', 'consumer_key', 'consumer_secret', 'create_compliance_job', 'create_list', 'create_tweet', 'delete_list', 'delete_tweet', 'follow', 'follow_list', 'follow_user', 'get_all_tweets_count', 'get_blocked', 'get_bookmarks', 'get_compliance_job', 'get_compliance_jobs', 'get_followed_lists', 'get_liked_tweets', 'get_liking_users', 'get_list', 'get_list_followers', 'get_list_members', 'get_list_memberships', 'get_list_tweets', 'get_me', 'get_muted', 'get_owned_lists', 'get_pinned_lists', 'get_quote_tweets', 'get_recent_tweets_count', 'get_retweeters', 'get_space', 'get_space_buyers', 'get_space_tweets', 'get_spaces', 'get_tweet', 'get_tweets', 'get_user', 'get_users', 'get_users_followers', 'get_users_following', 'get_users_mentions', 'get_users_tweets', 'hide_reply', 'like', 'mute', 'pin_list', 'remove_bookmark', 'remove_list_member', 'request', 'return_type', 'retweet', 'search_all_tweets', 'search_recent_tweets', 'search_spaces', 'session', 'unblock', 'unfollow', 'unfollow_list', 'unfollow_user', 'unhide_reply', 'unlike', 'unmute', 'unpin_list', 'unretweet', 'update_list', 'user_agent', 'wait_on_rate_limit']\n",
      "Response(data=<User id=1019988407878144006 name=Udit Kalra username=UditKalra15>, includes={}, errors=[], meta={})\n"
     ]
    }
   ],
   "source": [
    "import tweepy\n",
    "\n",
    "# Your app's bearer token can be found under the Authentication Tokens section\n",
    "# of the Keys and Tokens tab of your app, under the\n",
    "# Twitter Developer Portal Projects & Apps page at\n",
    "# https://developer.twitter.com/en/portal/projects-and-apps\n",
    "bearer_token = \"AAAAAAAAAAAAAAAAAAAAAHe0cQEAAAAAX5fqWVOCrd5YNpNztViyXj56m4E%3Di8E4Ck1mI9jQUGd6W1cSxyrF5Oe56O3zmfM0LPiF1aayO1UJv2\"\n",
    "\n",
    "# Your app's API/consumer key and secret can be found under the Consumer Keys\n",
    "# section of the Keys and Tokens tab of your app, under the\n",
    "# Twitter Developer Portal Projects & Apps page at\n",
    "# https://developer.twitter.com/en/portal/projects-and-apps\n",
    "consumer_key = \"9UCMqcSXSWTrAwqXW4O8NWz45\"\n",
    "consumer_secret = \"o6Kat0yjLgqXfQKMoEBVIiHmjsEHGFaXNIUrdCVOzzBZ1MCBAX\"\n",
    "\n",
    "# Your account's (the app owner's account's) access token and secret for your\n",
    "# app can be found under the Authentication Tokens section of the\n",
    "# Keys and Tokens tab of your app, under the\n",
    "# Twitter Developer Portal Projects & Apps page at\n",
    "# https://developer.twitter.com/en/portal/projects-and-apps\n",
    "access_token = \"1019988407878144006-GmEVXnr5X7VrQ0OggetsVkOyGsSIG1\"\n",
    "access_token_secret = \"6gDbhskmzjtczmtipq5B6uW48eTmprwK1zPd0dFm9VHWI\"\n",
    "\n",
    "# You can authenticate as your app with just your bearer token\n",
    "client = tweepy.Client(bearer_token=bearer_token)\n",
    "\n",
    "# You can provide the consumer key and secret with the access token and access\n",
    "# token secret to authenticate as a user\n",
    "client = tweepy.Client(\n",
    "    consumer_key=consumer_key, consumer_secret=consumer_secret,\n",
    "    access_token=access_token, access_token_secret=access_token_secret\n",
    ")\n",
    "\n",
    "print(dir(client))\n",
    "\n",
    "print(client.get_me())"
   ]
  },
  {
   "cell_type": "code",
   "execution_count": 19,
   "metadata": {},
   "outputs": [
    {
     "name": "stdout",
     "output_type": "stream",
     "text": [
      "{'newest_id': '1530425614989201408', 'oldest_id': '1530419037146173440', 'result_count': 10, 'next_token': 'b26v89c19zqg8o3fpyzkkive0yjyfc30dm260a11r00al'}\n",
      "1530425614989201408\n",
      "बेस्ट फाइनेंस प्लान के साथ सिर्फ 3 लाख में खरीदें Maruti Suzuki Brezza, अभी पढ़ें पूरी डिटेल्स https://t.co/aZfyMCwN8o\n",
      "1530425344590680065\n",
      "@Mahapurosh @Vikram50479191 @ani_digital @ANI That is Suzuki. But infact suzuki share in maruti suzuki now is almost 85% so you are right\n",
      "1530424141572034560\n",
      "@Maruti_Corp pls help with HSRP for old vehicles. Hyundai dealers are aware and facilitating to get new number plates. Suzuki dealers are clueless. 😢\n",
      "1530422172761870336\n",
      "RT @FasBeam: The Wagon R you see here is the latest 2022 model &amp; its on-road Mumbai price is a whopping Rs. 8.44 lakhs! Most Maruti cars ha…\n",
      "1530420016142770176\n",
      "Maruti Suzuki True Value, all the Used Cars go through a comprehensive background check before they are put up for sale.\n",
      "#NewUpdatesMarutiSuzuki\n",
      "#TrueValue\n",
      "#MarutiSuzukiTrueValue\n",
      "#TrustTheExpert https://t.co/CaUOIyZmME\n",
      "1530419512033439744\n",
      "of the vehicle owner.\n",
      "\n",
      "(b) For Nexa/ Maruti Suzuki:-       Request to provide repair estimate post reassessed to HDFC ERGO under intimation to me.\n",
      "\n",
      "8. My vehicle is parked in their service centre since last 5 weeks. Without any repair approval repair work is stagnated.\n",
      "1530419409550036992\n",
      "Maruti Suzuki True Value offered a wide selection of high quality used cars for sale, along with services such as insurance, finance and accessories.\n",
      "#NewUpdatesMarutiSuzuki\n",
      "#TrueValue\n",
      "#MarutiSuzukiTrueValue\n",
      "#TrustTheExpert https://t.co/SjyvYOvhxj\n",
      "1530419210513485824\n",
      "Exemplary services &amp; convenient processes for both the buyers &amp; sellers provided by Maruti Suzuki True Value.\n",
      "#NewUpdatesMarutiSuzuki\n",
      "#TrueValue\n",
      "#MarutiSuzukiTrueValue\n",
      "#TrustTheExpert https://t.co/POZT4C5K0d\n",
      "1530419075968425985\n",
      "Post reviews the repair estimate has fallen approx. Rs. 2,65,000.00 that makes a doubt on integrity of a huge professional organization i.e. Nexa/ Maruti Suzuki.  \n",
      " \n",
      "6. Similarly the HDFC ERGO is still unable to provide a concrete resolution and keeping the matter unresolved and\n",
      "1530419037146173440\n",
      "Maruti Suzuki True Value provided High-quality &amp; reliable pre-owned cars, digitally evaluated on 376 checkpoints.\n",
      "#NewUpdatesMarutiSuzuki\n",
      "#TrueValue\n",
      "#MarutiSuzukiTrueValue\n",
      "#TrustTheExpert https://t.co/gFLSN2bjbm\n"
     ]
    }
   ],
   "source": [
    "import tweepy\n",
    "bearer_token = \"AAAAAAAAAAAAAAAAAAAAAHe0cQEAAAAAX5fqWVOCrd5YNpNztViyXj56m4E%3Di8E4Ck1mI9jQUGd6W1cSxyrF5Oe56O3zmfM0LPiF1aayO1UJv2\"\n",
    "\n",
    "client = tweepy.Client(bearer_token)\n",
    "\n",
    "# Search Recent Tweets\n",
    "\n",
    "# This endpoint/method returns Tweets from the last seven days\n",
    "\n",
    "response = client.search_recent_tweets(\"Maruti Suzuki\")\n",
    "# The method returns a Response object, a named tuple with data, includes,\n",
    "# errors, and meta fields\n",
    "print(response.meta)\n",
    "\n",
    "# In this case, the data field of the Response returned is a list of Tweet\n",
    "# objects\n",
    "tweets = response.data\n",
    "\n",
    "# Each Tweet object has default ID and text fields\n",
    "for tweet in tweets:\n",
    "    print(tweet.id)\n",
    "    print(tweet.text)\n",
    "\n",
    "# By default, this endpoint/method returns 10 results\n",
    "# You can retrieve up to 100 Tweets by specifying max_results\n",
    "response = client.search_recent_tweets(\"Maruti Suzuki\", max_results=100)"
   ]
  },
  {
   "cell_type": "code",
   "execution_count": 20,
   "metadata": {},
   "outputs": [],
   "source": [
    "file1 = open(\"test.txt\", \"a\") \n",
    "# append mode\n",
    "for tweet in tweets:\n",
    "    file1.write(tweet.text)    \n",
    "file1.close()"
   ]
  },
  {
   "cell_type": "code",
   "execution_count": 21,
   "metadata": {},
   "outputs": [],
   "source": [
    "from textblob import TextBlob\n",
    "from matplotlib import pyplot as plt\n",
    "import numpy as np\n",
    "import re"
   ]
  },
  {
   "cell_type": "code",
   "execution_count": 22,
   "metadata": {},
   "outputs": [
    {
     "name": "stdout",
     "output_type": "stream",
     "text": [
      "[0.3268939393939394, 0.0, 0.0, 0.0, 0.0, 0.0, 0.0, 0.0, 0.08199999999999999, 0.0, 0.0, 0.0, 0.35, 0.0, 0.0, 0.0, 0.25000000000000006, 0.0, 0.0, 0.0, 0.0, 0.0, 0.0]\n",
      "82.6086956521739 17.391304347826086 0.0\n"
     ]
    },
    {
     "data": {
      "image/png": "[encoded data removed]",
      "text/plain": [
       "<Figure size 432x288 with 1 Axes>"
      ]
     },
     "metadata": {},
     "output_type": "display_data"
    }
   ],
   "source": [
    "f = open(\"test.txt\", \"r\", encoding=\"utf-8\")\n",
    "Lines = f.readlines()\n",
    "\n",
    "sentili=[]\n",
    "\n",
    "for i in Lines:\n",
    "    sentili.append(TextBlob(i).sentiment.polarity)\n",
    "    \n",
    "print(sentili)\n",
    "\n",
    "neg=0\n",
    "n=0\n",
    "p=0\n",
    "c=0\n",
    "\n",
    "for i in sentili:\n",
    "    c=c+1\n",
    "    if i==0.0:\n",
    "        n=n+1\n",
    "    elif i>0.0:\n",
    "        p=p+1\n",
    "    else:\n",
    "        neg=neg+1\n",
    "        \n",
    "n1=(n/c)*100\n",
    "p1=(p/c)*100\n",
    "neg1=(neg/c)*100\n",
    "\n",
    "print(n1,p1,neg1)\n",
    "\n",
    "y = np.array([n1, p1, neg1])\n",
    "mylabels = [\"Neutral\", \"Positive\", \"Negative\"]\n",
    "\n",
    "plt.pie(y, labels = mylabels, autopct='%1.1f%%',\n",
    "        shadow=True,explode=[0.1,0.2,0.1])\n",
    "plt.show()"
   ]
  }
 ],
 "metadata": {
  "interpreter": {
   "hash": "aee8b7b246df8f9039afb4144a1f6fd8d2ca17a180786b69acc140d282b71a49"
  },
  "kernelspec": {
   "display_name": "Python 3.10.4 64-bit",
   "name": "python3"
  },
  "language_info": {
   "codemirror_mode": {
    "name": "ipython",
    "version": 3
   },
   "file_extension": ".py",
   "mimetype": "text/x-python",
   "name": "python",
   "nbconvert_exporter": "python",
   "pygments_lexer": "ipython3",
   "version": "3.10.4"
  },
  "orig_nbformat": 4
 },
 "nbformat": 4,
 "nbformat_minor": 2
}
